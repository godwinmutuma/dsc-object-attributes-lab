{
 "cells": [
  {
   "cell_type": "markdown",
   "metadata": {},
   "source": [
    "# Object Attributes - Lab"
   ]
  },
  {
   "cell_type": "markdown",
   "metadata": {},
   "source": [
    "## Introduction\n",
    "In this lab, you'll practice defining classes and instance methods. "
   ]
  },
  {
   "cell_type": "markdown",
   "metadata": {},
   "source": [
    "## Objectives\n",
    "\n",
    "You will be able to:\n",
    "\n",
    "* Define and call an instance method\n",
    "* Define and access instance attributes"
   ]
  },
  {
   "cell_type": "markdown",
   "metadata": {},
   "source": [
    "## Defining Classes and Instance Methods"
   ]
  },
  {
   "cell_type": "markdown",
   "metadata": {},
   "source": [
    "In the cell below define a `Driver` class.\n",
    "\n",
    "For this class, create a method called `greet_passenger()`, which returns the string `Hello! I'll be your driver today. My name is ` followed by that driver's first name and last name (i.e. `Hello! I'll be your driver today. My name is John Doe`). (Be sure to keep in mind that the driver's name will be stored under two separate attributes: first and last.)"
   ]
  },
  {
   "cell_type": "code",
   "execution_count": 1,
   "metadata": {},
   "outputs": [],
   "source": [
    "# Define Driver Class here with properties for each instance variable\n",
    "class Driver:\n",
    "    def __init__(self, first, last):\n",
    "        # Instance variables for first and last names\n",
    "        self._first = first\n",
    "        self._last = last\n",
    "\n",
    "    # Property for the first name\n",
    "    @property\n",
    "    def first(self):\n",
    "        return self._first\n",
    "\n",
    "    # Setter for the first name\n",
    "    @first.setter\n",
    "    def first(self, value):\n",
    "        self._first = value\n",
    "\n",
    "    # Property for the last name\n",
    "    @property\n",
    "    def last(self):\n",
    "        return self._last\n",
    "\n",
    "    # Setter for the last name\n",
    "    @last.setter\n",
    "    def last(self, value):\n",
    "        self._last = value\n",
    "\n",
    "    def greet_passenger(self):\n",
    "        # Return a greeting message with the driver's full name\n",
    "        return f\"Hello! I'll be your driver today. My name is {self.first} {self.last}\"\n"
   ]
  },
  {
   "cell_type": "markdown",
   "metadata": {},
   "source": [
    "Great! Now create an instance of your driver class. Then, create the following attributes for your instance:\n",
    "* `first` - the first name of the driver. Set it to Matthew.\n",
    "* `last` - the last name of the driver. Set it to Mitchell.\n",
    "* `miles_driven` - the number of miles driven by the driver. Set it to 100.\n",
    "* `rating` - the driver's rating. Set it to 4.9\n",
    "\n",
    "Finally, use your `greet_passenger()` method for your `Driver` instance object."
   ]
  },
  {
   "cell_type": "code",
   "execution_count": 2,
   "metadata": {},
   "outputs": [
    {
     "name": "stdout",
     "output_type": "stream",
     "text": [
      "Hello! I'll be your driver today. My name is Matthew Mitchell. I've driven 100 miles and have a rating of 4.9 stars.\n"
     ]
    }
   ],
   "source": [
    "# Create an instance with the above 4 attributes and then call the greet_passenger method\n",
    "class Driver:\n",
    "    def __init__(self, first, last, miles_driven, rating):\n",
    "        # Instance variables for first and last names, miles driven, and rating\n",
    "        self._first = first\n",
    "        self._last = last\n",
    "        self._miles_driven = miles_driven\n",
    "        self._rating = rating\n",
    "\n",
    "    # Property for the first name\n",
    "    @property\n",
    "    def first(self):\n",
    "        return self._first\n",
    "\n",
    "    # Setter for the first name\n",
    "    @first.setter\n",
    "    def first(self, value):\n",
    "        self._first = value\n",
    "\n",
    "    # Property for the last name\n",
    "    @property\n",
    "    def last(self):\n",
    "        return self._last\n",
    "\n",
    "    # Setter for the last name\n",
    "    @last.setter\n",
    "    def last(self, value):\n",
    "        self._last = value\n",
    "\n",
    "    # Property for miles driven\n",
    "    @property\n",
    "    def miles_driven(self):\n",
    "        return self._miles_driven\n",
    "\n",
    "    # Setter for miles driven\n",
    "    @miles_driven.setter\n",
    "    def miles_driven(self, value):\n",
    "        self._miles_driven = value\n",
    "\n",
    "    # Property for rating\n",
    "    @property\n",
    "    def rating(self):\n",
    "        return self._rating\n",
    "\n",
    "    # Setter for rating\n",
    "    @rating.setter\n",
    "    def rating(self, value):\n",
    "        self._rating = value\n",
    "\n",
    "    def greet_passenger(self):\n",
    "        # Return a greeting message with the driver's full name\n",
    "        return f\"Hello! I'll be your driver today. My name is {self.first} {self.last}. I've driven {self.miles_driven} miles and have a rating of {self.rating} stars.\"\n",
    "\n",
    "# Create an instance of the Driver class\n",
    "driver = Driver(\"Matthew\", \"Mitchell\", 100, 4.9)\n",
    "\n",
    "# Call the greet_passenger method\n",
    "print(driver.greet_passenger())\n"
   ]
  },
  {
   "cell_type": "markdown",
   "metadata": {},
   "source": [
    "Now, create a passenger class with one method `yell_name()` which prints the passenger's first and last name in all caps. (Again first and last will be stored as separate attributes.)"
   ]
  },
  {
   "cell_type": "code",
   "execution_count": 3,
   "metadata": {},
   "outputs": [],
   "source": [
    "# Define Passenger Class here with properties for each instance variable\n",
    "class Passenger:\n",
    "    def __init__(self, first, last):\n",
    "        self.first = first  # Set the first name attribute\n",
    "        self.last = last    # Set the last name attribute\n",
    "\n",
    "    def yell_name(self):\n",
    "        # Print the first and last name in uppercase\n",
    "        print(f\"{self.first.upper()} {self.last.upper()}\")"
   ]
  },
  {
   "cell_type": "markdown",
   "metadata": {},
   "source": [
    "Create an instance of your passenger class. Then create an attribute \"first\" set to \"Ron\" and an attribute \"last\" set to \"Burgundy\". Then call the `yell_name()` method."
   ]
  },
  {
   "cell_type": "code",
   "execution_count": 5,
   "metadata": {},
   "outputs": [
    {
     "name": "stdout",
     "output_type": "stream",
     "text": [
      "RON BURGUNDY\n"
     ]
    }
   ],
   "source": [
    "# Create an instance of the passenger class with the first and last attributes. Then call the yell_name method\n",
    "passenger = Passenger(\"Ron\", \"Burgundy\")\n",
    "# Call the yell_name method\n",
    "passenger.yell_name()"
   ]
  },
  {
   "cell_type": "markdown",
   "metadata": {},
   "source": [
    "Great work!"
   ]
  },
  {
   "cell_type": "markdown",
   "metadata": {},
   "source": [
    "## Summary\n",
    "In this lab, you practiced defining classes, creating instances of said classes, and using methods that made calls to object attributes."
   ]
  }
 ],
 "metadata": {
  "kernelspec": {
   "display_name": "Python 3 (ipykernel)",
   "language": "python",
   "name": "python3"
  },
  "language_info": {
   "codemirror_mode": {
    "name": "ipython",
    "version": 3
   },
   "file_extension": ".py",
   "mimetype": "text/x-python",
   "name": "python",
   "nbconvert_exporter": "python",
   "pygments_lexer": "ipython3",
   "version": "3.8.5"
  }
 },
 "nbformat": 4,
 "nbformat_minor": 4
}
